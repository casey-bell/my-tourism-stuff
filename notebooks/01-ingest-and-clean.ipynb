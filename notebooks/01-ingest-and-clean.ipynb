# 01-ingest-and-clean.ipynb

---

## Overview

This notebook ingests the raw Excel file `overseas-visitors-to-britain-2024.xlsx`, performs initial cleaning, handles the 2024 scope change (Great Britain only), standardises column names and types, and writes out an interim dataset in Parquet format.

---

## 1. Import libraries

```python
import os
from pathlib import Path

import pandas as pd
import pyarrow        # for Parquet support
2. Define file paths
python
# Base paths
ROOT_DIR = Path(__file__).resolve().parent.parent
RAW_DIR = ROOT_DIR / "data" / "raw"
INTERIM_DIR = ROOT_DIR / "data" / "interim"

# Raw Excel file
RAW_FILE = RAW_DIR / "overseas-visitors-to-britain-2024.xlsx"

# Ensure interim directory exists
INTERIM_DIR.mkdir(parents=True, exist_ok=True)
3. Load raw dataset
python
# Read first sheet (official statistics)
df_raw = pd.read_excel(
    RAW_FILE,
    sheet_name=0,
    engine="openpyxl"
)
4. Inspect the raw data
python
# Quick look at shape and columns
print(f"Rows: {df_raw.shape[0]}, Columns: {df_raw.shape[1]}")
df_raw.head()
python
# Check for missing values
df_raw.isna().sum()
5. Clean and standardise column names
python
def clean_columns(columns):
    cleaned = (
        columns
        .str.strip()                             # remove leading/trailing spaces
        .str.lower()                             # lowercase all names
        .str.replace(r"[^\w\s]", "", regex=True) # drop punctuation
        .str.replace(r"\s+", "_", regex=True)    # spaces to underscore
    )
    return cleaned

df = df_raw.copy()
df.columns = clean_columns(df.columns)
6. Parse quarter field into a date index
python
# Expect column named 'quarter' in format 'Q1 2019' etc.
df["quarter_period"] = (
    df["quarter"]
    .str.replace("Q", "", regex=False)
    .str.extract(r"(\d+)\s+(\d{4})")
    .apply(lambda x: pd.Period(year=int(x[1]), quarter=int(x[0])), axis=1)
)

df = df.set_index("quarter_period")
7. Handle scope change for 2024
python
# Add a flag for scope: 'UK' before 2024, 'GB' from 2024 onwards
df["scope"] = df.index.to_series().apply(
    lambda p: "GB" if p.year >= 2024 else "UK"
)
8. Enforce data types and rename metrics
python
# Ensure numeric fields
numeric_cols = ["visits", "spending", "nights_stayed"]
for col in numeric_cols:
    df[col] = pd.to_numeric(df[col], errors="coerce")

# Rename for clarity
df = df.rename(columns={
    "visits": "num_visits",
    "spending": "spend_gbp_millions",
    "nights_stayed": "num_nights"
})
9. Write interim dataset
python
OUTPUT_FILE = INTERIM_DIR / "visits_2019_2024_clean.parquet"
df.to_parquet(OUTPUT_FILE, index=True)
print(f"Interim data written to {OUTPUT_FILE}")
